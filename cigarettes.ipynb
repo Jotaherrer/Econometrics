{
 "cells": [
  {
   "cell_type": "markdown",
   "metadata": {},
   "source": [
    "# Cigarette consumption in the U.S. by State - IV and OLS examples"
   ]
  },
  {
   "cell_type": "code",
   "execution_count": 1,
   "metadata": {},
   "outputs": [],
   "source": [
    "import pandas as pd\n",
    "import numpy as np\n",
    "import matplotlib.pyplot as plt\n",
    "import statsmodels.formula.api as smf\n",
    "from statsmodels.sandbox.regression.gmm import IV2SLS\n",
    "from sklearn.linear_model import LogisticRegression"
   ]
  },
  {
   "cell_type": "markdown",
   "metadata": {},
   "source": [
    "### Data set consists of annual data for the 48 continental U.S. states.\n",
    "* Quantity consumed is measured by annual per capita cigarette sales in packs per fiscal year, as derived from state tax collection data.\n",
    "* The price is the average retail cigarette price per pack during the fiscal year, including taxes.\n",
    "* The cigarette-specific tax is the tax applied to cigarettes only. \n",
    "* All prices, income, and taxes are deflated by the Consumer Price Index and thus are in constant (real) dollars.  "
   ]
  },
  {
   "cell_type": "code",
   "execution_count": 2,
   "metadata": {},
   "outputs": [],
   "source": [
    "df = pd.read_excel('Clase 3/cig.xlsx')"
   ]
  },
  {
   "cell_type": "code",
   "execution_count": 3,
   "metadata": {},
   "outputs": [
    {
     "data": {
      "text/html": [
       "<div>\n",
       "<style scoped>\n",
       "    .dataframe tbody tr th:only-of-type {\n",
       "        vertical-align: middle;\n",
       "    }\n",
       "\n",
       "    .dataframe tbody tr th {\n",
       "        vertical-align: top;\n",
       "    }\n",
       "\n",
       "    .dataframe thead th {\n",
       "        text-align: right;\n",
       "    }\n",
       "</style>\n",
       "<table border=\"1\" class=\"dataframe\">\n",
       "  <thead>\n",
       "    <tr style=\"text-align: right;\">\n",
       "      <th></th>\n",
       "      <th>state</th>\n",
       "      <th>year</th>\n",
       "      <th>cpi</th>\n",
       "      <th>pop</th>\n",
       "      <th>packpc</th>\n",
       "      <th>income</th>\n",
       "      <th>tax</th>\n",
       "      <th>avgprs</th>\n",
       "      <th>taxs</th>\n",
       "    </tr>\n",
       "  </thead>\n",
       "  <tbody>\n",
       "    <tr>\n",
       "      <th>0</th>\n",
       "      <td>AL</td>\n",
       "      <td>1985</td>\n",
       "      <td>1.076</td>\n",
       "      <td>3973000</td>\n",
       "      <td>116.486282</td>\n",
       "      <td>46014968</td>\n",
       "      <td>32.500004</td>\n",
       "      <td>102.181671</td>\n",
       "      <td>33.348335</td>\n",
       "    </tr>\n",
       "    <tr>\n",
       "      <th>1</th>\n",
       "      <td>AR</td>\n",
       "      <td>1985</td>\n",
       "      <td>1.076</td>\n",
       "      <td>2327000</td>\n",
       "      <td>128.534592</td>\n",
       "      <td>26210736</td>\n",
       "      <td>37.000000</td>\n",
       "      <td>101.474998</td>\n",
       "      <td>37.000000</td>\n",
       "    </tr>\n",
       "    <tr>\n",
       "      <th>2</th>\n",
       "      <td>AZ</td>\n",
       "      <td>1985</td>\n",
       "      <td>1.076</td>\n",
       "      <td>3184000</td>\n",
       "      <td>104.522614</td>\n",
       "      <td>43956936</td>\n",
       "      <td>31.000000</td>\n",
       "      <td>108.578751</td>\n",
       "      <td>36.170418</td>\n",
       "    </tr>\n",
       "    <tr>\n",
       "      <th>3</th>\n",
       "      <td>CA</td>\n",
       "      <td>1985</td>\n",
       "      <td>1.076</td>\n",
       "      <td>26444000</td>\n",
       "      <td>100.363037</td>\n",
       "      <td>447102816</td>\n",
       "      <td>26.000000</td>\n",
       "      <td>107.837341</td>\n",
       "      <td>32.104000</td>\n",
       "    </tr>\n",
       "    <tr>\n",
       "      <th>4</th>\n",
       "      <td>CO</td>\n",
       "      <td>1985</td>\n",
       "      <td>1.076</td>\n",
       "      <td>3209000</td>\n",
       "      <td>112.963539</td>\n",
       "      <td>49466672</td>\n",
       "      <td>31.000000</td>\n",
       "      <td>94.266663</td>\n",
       "      <td>31.000000</td>\n",
       "    </tr>\n",
       "    <tr>\n",
       "      <th>...</th>\n",
       "      <td>...</td>\n",
       "      <td>...</td>\n",
       "      <td>...</td>\n",
       "      <td>...</td>\n",
       "      <td>...</td>\n",
       "      <td>...</td>\n",
       "      <td>...</td>\n",
       "      <td>...</td>\n",
       "      <td>...</td>\n",
       "    </tr>\n",
       "    <tr>\n",
       "      <th>91</th>\n",
       "      <td>VT</td>\n",
       "      <td>1995</td>\n",
       "      <td>1.524</td>\n",
       "      <td>582827</td>\n",
       "      <td>122.334755</td>\n",
       "      <td>12448607</td>\n",
       "      <td>44.000000</td>\n",
       "      <td>175.638748</td>\n",
       "      <td>52.363750</td>\n",
       "    </tr>\n",
       "    <tr>\n",
       "      <th>92</th>\n",
       "      <td>WA</td>\n",
       "      <td>1995</td>\n",
       "      <td>1.524</td>\n",
       "      <td>5431024</td>\n",
       "      <td>65.530922</td>\n",
       "      <td>129680832</td>\n",
       "      <td>80.500000</td>\n",
       "      <td>239.109344</td>\n",
       "      <td>96.142670</td>\n",
       "    </tr>\n",
       "    <tr>\n",
       "      <th>93</th>\n",
       "      <td>WI</td>\n",
       "      <td>1995</td>\n",
       "      <td>1.524</td>\n",
       "      <td>5137004</td>\n",
       "      <td>92.466347</td>\n",
       "      <td>115959680</td>\n",
       "      <td>62.000000</td>\n",
       "      <td>201.381256</td>\n",
       "      <td>71.589584</td>\n",
       "    </tr>\n",
       "    <tr>\n",
       "      <th>94</th>\n",
       "      <td>WV</td>\n",
       "      <td>1995</td>\n",
       "      <td>1.524</td>\n",
       "      <td>1820560</td>\n",
       "      <td>115.568832</td>\n",
       "      <td>32611268</td>\n",
       "      <td>41.000000</td>\n",
       "      <td>166.517181</td>\n",
       "      <td>50.425499</td>\n",
       "    </tr>\n",
       "    <tr>\n",
       "      <th>95</th>\n",
       "      <td>WY</td>\n",
       "      <td>1995</td>\n",
       "      <td>1.524</td>\n",
       "      <td>478447</td>\n",
       "      <td>112.238136</td>\n",
       "      <td>10293195</td>\n",
       "      <td>36.000000</td>\n",
       "      <td>158.541656</td>\n",
       "      <td>36.000000</td>\n",
       "    </tr>\n",
       "  </tbody>\n",
       "</table>\n",
       "<p>96 rows × 9 columns</p>\n",
       "</div>"
      ],
      "text/plain": [
       "   state  year    cpi       pop      packpc     income        tax      avgprs  \\\n",
       "0     AL  1985  1.076   3973000  116.486282   46014968  32.500004  102.181671   \n",
       "1     AR  1985  1.076   2327000  128.534592   26210736  37.000000  101.474998   \n",
       "2     AZ  1985  1.076   3184000  104.522614   43956936  31.000000  108.578751   \n",
       "3     CA  1985  1.076  26444000  100.363037  447102816  26.000000  107.837341   \n",
       "4     CO  1985  1.076   3209000  112.963539   49466672  31.000000   94.266663   \n",
       "..   ...   ...    ...       ...         ...        ...        ...         ...   \n",
       "91    VT  1995  1.524    582827  122.334755   12448607  44.000000  175.638748   \n",
       "92    WA  1995  1.524   5431024   65.530922  129680832  80.500000  239.109344   \n",
       "93    WI  1995  1.524   5137004   92.466347  115959680  62.000000  201.381256   \n",
       "94    WV  1995  1.524   1820560  115.568832   32611268  41.000000  166.517181   \n",
       "95    WY  1995  1.524    478447  112.238136   10293195  36.000000  158.541656   \n",
       "\n",
       "         taxs  \n",
       "0   33.348335  \n",
       "1   37.000000  \n",
       "2   36.170418  \n",
       "3   32.104000  \n",
       "4   31.000000  \n",
       "..        ...  \n",
       "91  52.363750  \n",
       "92  96.142670  \n",
       "93  71.589584  \n",
       "94  50.425499  \n",
       "95  36.000000  \n",
       "\n",
       "[96 rows x 9 columns]"
      ]
     },
     "execution_count": 3,
     "metadata": {},
     "output_type": "execute_result"
    }
   ],
   "source": [
    "df"
   ]
  },
  {
   "cell_type": "markdown",
   "metadata": {},
   "source": [
    "**Columns description:**\n",
    "* State: 48 continental U.S. states \n",
    "* Year: 1985 and 1995\n",
    "* CPI: Consumer Price Index (U.S.)   \n",
    "* pop: State population\n",
    "* packpc: Number of packs consumed per capita (it's importante to highlight that relative consumption to population size should be calculated)\n",
    "* income: State personal income (nominal)\n",
    "* tax: Average stat, federal and average local taxes for FY.\n",
    "* avgprs: Average price during FY, including sales tax.\n",
    "* taxs: Average taxes fro FY, including sales tax."
   ]
  },
  {
   "cell_type": "markdown",
   "metadata": {},
   "source": [
    "## How can we determine the optimal level of tax prices for cigarettes?"
   ]
  },
  {
   "cell_type": "markdown",
   "metadata": {},
   "source": [
    "1. Re-express values for inflation indices"
   ]
  },
  {
   "cell_type": "code",
   "execution_count": 4,
   "metadata": {},
   "outputs": [],
   "source": [
    "df['real_price'] = df['avgprs'] / df['cpi']     # ==> Relative price for cigarettes and consumer index products (real purchase power).\n",
    "df['cigtax'] = df['tax'] / df['cpi']"
   ]
  },
  {
   "cell_type": "markdown",
   "metadata": {},
   "source": [
    "2. Create sales tax and income per capita variables"
   ]
  },
  {
   "cell_type": "code",
   "execution_count": 5,
   "metadata": {},
   "outputs": [],
   "source": [
    "df['sales_tax'] = (df['taxs'] - df['tax']) / df['cpi'] # ==> Discrimination of Sales Tax \n",
    "df['income_per_capita'] = df['income'] / df['pop'] * df['cpi']    # ==> Income per capita  "
   ]
  },
  {
   "cell_type": "markdown",
   "metadata": {},
   "source": [
    "3. Compute correlations between real prices and cigarette and sales taxes. "
   ]
  },
  {
   "cell_type": "code",
   "execution_count": 11,
   "metadata": {},
   "outputs": [],
   "source": [
    "corr_tax = df['real_price'].corr(df['cigtax'])              # ==> 0.84 - HIGH correlation between price and taxes.\n",
    "corr_sales_tax = df['real_price'].corr(df['sales_tax'])     # ==> 0.70 - Also HIGH correlation but with prices and sales tax."
   ]
  },
  {
   "cell_type": "code",
   "execution_count": 13,
   "metadata": {},
   "outputs": [
    {
     "data": {
      "text/plain": [
       "(0.8402331041290141, 0.7035011873032436)"
      ]
     },
     "execution_count": 13,
     "metadata": {},
     "output_type": "execute_result"
    }
   ],
   "source": [
    "corr_tax, corr_sales_tax"
   ]
  },
  {
   "cell_type": "markdown",
   "metadata": {},
   "source": [
    "The above calculation denotes a high correlation between prices and taxes, although lower correlation with sales tax."
   ]
  },
  {
   "cell_type": "code",
   "execution_count": 7,
   "metadata": {},
   "outputs": [],
   "source": [
    "df_1995 = df[df['year'] == 1995]"
   ]
  },
  {
   "cell_type": "markdown",
   "metadata": {},
   "source": [
    "4. Calculate linear regression - **One stage Ordinary Leaste Squares (OLS)** - \n",
    "In this example, resulting coefficientes are interpreted as demand elasticity for cigarettes. "
   ]
  },
  {
   "cell_type": "code",
   "execution_count": 14,
   "metadata": {},
   "outputs": [
    {
     "name": "stdout",
     "output_type": "stream",
     "text": [
      "                            OLS Regression Results                            \n",
      "==============================================================================\n",
      "Dep. Variable:         np.log(packpc)   R-squared:                       0.406\n",
      "Model:                            OLS   Adj. R-squared:                  0.393\n",
      "Method:                 Least Squares   F-statistic:                     31.41\n",
      "Date:                Fri, 28 Aug 2020   Prob (F-statistic):           1.13e-06\n",
      "Time:                        00:59:23   Log-Likelihood:                 12.724\n",
      "No. Observations:                  48   AIC:                            -21.45\n",
      "Df Residuals:                      46   BIC:                            -17.71\n",
      "Df Model:                           1                                         \n",
      "Covariance Type:            nonrobust                                         \n",
      "======================================================================================\n",
      "                         coef    std err          t      P>|t|      [0.025      0.975]\n",
      "--------------------------------------------------------------------------------------\n",
      "Intercept             10.3389      1.035      9.986      0.000       8.255      12.423\n",
      "np.log(real_price)    -1.2131      0.216     -5.604      0.000      -1.649      -0.777\n",
      "==============================================================================\n",
      "Omnibus:                       11.094   Durbin-Watson:                   1.985\n",
      "Prob(Omnibus):                  0.004   Jarque-Bera (JB):               12.802\n",
      "Skew:                          -0.823   Prob(JB):                      0.00166\n",
      "Kurtosis:                       4.921   Cond. No.                         189.\n",
      "==============================================================================\n",
      "\n",
      "Warnings:\n",
      "[1] Standard Errors assume that the covariance matrix of the errors is correctly specified.\n"
     ]
    }
   ],
   "source": [
    "lm = smf.ols('np.log(packpc) ~ np.log(real_price)',data=df_1995)    \n",
    "                                                \n",
    "fit_lm = lm.fit()\n",
    "print(fit_lm.summary())"
   ]
  },
  {
   "cell_type": "markdown",
   "metadata": {},
   "source": [
    "### *Partial conclusion => An increase in 1% of prices should cause a 1,21% decrease in demand of cigarettes.*"
   ]
  },
  {
   "cell_type": "markdown",
   "metadata": {},
   "source": [
    "## In addition, we can calculate a linear regression model with instrumental variables as endogenous variables are involved - 2 Stage OLS"
   ]
  },
  {
   "cell_type": "markdown",
   "metadata": {},
   "source": [
    "1. First Stage OLS:"
   ]
  },
  {
   "cell_type": "code",
   "execution_count": 15,
   "metadata": {},
   "outputs": [
    {
     "name": "stdout",
     "output_type": "stream",
     "text": [
      "                            OLS Regression Results                            \n",
      "==============================================================================\n",
      "Dep. Variable:     np.log(real_price)   R-squared:                       0.471\n",
      "Model:                            OLS   Adj. R-squared:                  0.459\n",
      "Method:                 Least Squares   F-statistic:                     40.96\n",
      "Date:                Fri, 28 Aug 2020   Prob (F-statistic):           7.27e-08\n",
      "Time:                        01:01:09   Log-Likelihood:                 46.435\n",
      "No. Observations:                  48   AIC:                            -88.87\n",
      "Df Residuals:                      46   BIC:                            -85.13\n",
      "Df Model:                           1                                         \n",
      "Covariance Type:            nonrobust                                         \n",
      "==============================================================================\n",
      "                 coef    std err          t      P>|t|      [0.025      0.975]\n",
      "------------------------------------------------------------------------------\n",
      "Intercept      4.6165      0.029    158.601      0.000       4.558       4.675\n",
      "sales_tax      0.0307      0.005      6.400      0.000       0.021       0.040\n",
      "==============================================================================\n",
      "Omnibus:                        0.212   Durbin-Watson:                   2.008\n",
      "Prob(Omnibus):                  0.900   Jarque-Bera (JB):                0.012\n",
      "Skew:                          -0.038   Prob(JB):                        0.994\n",
      "Kurtosis:                       3.010   Cond. No.                         13.3\n",
      "==============================================================================\n",
      "\n",
      "Warnings:\n",
      "[1] Standard Errors assume that the covariance matrix of the errors is correctly specified.\n"
     ]
    }
   ],
   "source": [
    "lm2_1 = smf.ols('np.log(real_price) ~ sales_tax', data=df_1995)\n",
    "\n",
    "fit_lm2_1 = lm2_1.fit()\n",
    "print(fit_lm2_1.summary())   "
   ]
  },
  {
   "cell_type": "markdown",
   "metadata": {},
   "source": [
    "### *As expected by the results of calculated correlations, R2 is relatively high.  In univariate regression models, R2 tends to be similar with correlation.*"
   ]
  },
  {
   "cell_type": "markdown",
   "metadata": {},
   "source": [
    "2. Second stage OLS"
   ]
  },
  {
   "cell_type": "code",
   "execution_count": 16,
   "metadata": {},
   "outputs": [
    {
     "name": "stdout",
     "output_type": "stream",
     "text": [
      "                            OLS Regression Results                            \n",
      "==============================================================================\n",
      "Dep. Variable:         np.log(packpc)   R-squared:                       0.152\n",
      "Model:                            OLS   Adj. R-squared:                  0.134\n",
      "Method:                 Least Squares   F-statistic:                     8.277\n",
      "Date:                Fri, 28 Aug 2020   Prob (F-statistic):            0.00607\n",
      "Time:                        01:04:05   Log-Likelihood:                 4.2040\n",
      "No. Observations:                  48   AIC:                            -4.408\n",
      "Df Residuals:                      46   BIC:                           -0.6656\n",
      "Df Model:                           1                                         \n",
      "Covariance Type:            nonrobust                                         \n",
      "==============================================================================\n",
      "                 coef    std err          t      P>|t|      [0.025      0.975]\n",
      "------------------------------------------------------------------------------\n",
      "Intercept      9.7199      1.801      5.396      0.000       6.094      13.345\n",
      "fitted        -1.0836      0.377     -2.877      0.006      -1.842      -0.325\n",
      "==============================================================================\n",
      "Omnibus:                        1.817   Durbin-Watson:                   2.099\n",
      "Prob(Omnibus):                  0.403   Jarque-Bera (JB):                0.984\n",
      "Skew:                          -0.077   Prob(JB):                        0.612\n",
      "Kurtosis:                       3.684   Cond. No.                         275.\n",
      "==============================================================================\n",
      "\n",
      "Warnings:\n",
      "[1] Standard Errors assume that the covariance matrix of the errors is correctly specified.\n"
     ]
    }
   ],
   "source": [
    "orig = np.log(df_1995['real_price']).values\n",
    "fitted = fit_lm2_1.fittedvalues.values      \n",
    "lm2_2 = smf.ols('np.log(packpc) ~ fitted', data=df_1995)\n",
    "fit_lm2_2 = lm2_2.fit()\n",
    "print(fit_lm2_2.summary())   "
   ]
  },
  {
   "cell_type": "markdown",
   "metadata": {},
   "source": [
    "### *Obtain corrected regression with revised elasticy for cigarettes. However, Standard Deviations are manually calculated.*"
   ]
  },
  {
   "cell_type": "code",
   "execution_count": 17,
   "metadata": {},
   "outputs": [
    {
     "name": "stdout",
     "output_type": "stream",
     "text": [
      "                          IV2SLS Regression Results                           \n",
      "==============================================================================\n",
      "Dep. Variable:                 packpc   R-squared:                       0.996\n",
      "Model:                         IV2SLS   Adj. R-squared:                  0.996\n",
      "Method:                     Two Stage   F-statistic:                       nan\n",
      "                        Least Squares   Prob (F-statistic):                nan\n",
      "Date:                Fri, 28 Aug 2020                                         \n",
      "Time:                        01:04:24                                         \n",
      "No. Observations:                  48                                         \n",
      "Df Residuals:                      47                                         \n",
      "Df Model:                           1                                         \n",
      "==============================================================================\n",
      "                 coef    std err          t      P>|t|      [0.025      0.975]\n",
      "------------------------------------------------------------------------------\n",
      "x1             0.9300      0.010     91.733      0.000       0.910       0.950\n",
      "==============================================================================\n",
      "Omnibus:                        0.088   Durbin-Watson:                   1.787\n",
      "Prob(Omnibus):                  0.957   Jarque-Bera (JB):                0.014\n",
      "Skew:                           0.013   Prob(JB):                        0.993\n",
      "Kurtosis:                       2.920   Cond. No.                         1.00\n",
      "==============================================================================\n"
     ]
    },
    {
     "name": "stderr",
     "output_type": "stream",
     "text": [
      "C:\\Users\\Julian Estandar\\AppData\\Local\\Programs\\Python\\Python38\\lib\\site-packages\\scipy\\stats\\_distn_infrastructure.py:1932: RuntimeWarning: invalid value encountered in less_equal\n",
      "  cond2 = cond0 & (x <= _a)\n"
     ]
    }
   ],
   "source": [
    "fit_lm2_2_iv = IV2SLS(np.log(df_1995['packpc']),fitted, instrument=df_1995['sales_tax']).fit()\n",
    "print(fit_lm2_2_iv.summary())"
   ]
  },
  {
   "cell_type": "code",
   "execution_count": null,
   "metadata": {},
   "outputs": [],
   "source": []
  }
 ],
 "metadata": {
  "kernelspec": {
   "display_name": "Python 3.8.3 64-bit",
   "language": "python",
   "name": "python38364bita4ef9cd3cabc4ea6b726e24826c32144"
  },
  "language_info": {
   "codemirror_mode": {
    "name": "ipython",
    "version": 3
   },
   "file_extension": ".py",
   "mimetype": "text/x-python",
   "name": "python",
   "nbconvert_exporter": "python",
   "pygments_lexer": "ipython3",
   "version": "3.8.3"
  }
 },
 "nbformat": 4,
 "nbformat_minor": 4
}
